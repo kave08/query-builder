{
 "cells": [
  {
   "cell_type": "code",
   "execution_count": 4,
   "metadata": {},
   "outputs": [],
   "source": [
    "import pandas as pd # type: ignore\n",
    "import math\n",
    "import csv"
   ]
  },
  {
   "cell_type": "code",
   "execution_count": 5,
   "metadata": {},
   "outputs": [
    {
     "name": "stdout",
     "output_type": "stream",
     "text": [
      "Generated bulk_queries_1.csv with 100000 queries\n",
      "Generated bulk_queries_2.csv with 100000 queries\n",
      "Generated bulk_queries_3.csv with 100000 queries\n",
      "Generated bulk_queries_4.csv with 42776 queries\n"
     ]
    }
   ],
   "source": [
    "df = pd.read_csv('ids.csv')\n",
    "\n",
    "ids = df['id'].astype(str).tolist()\n",
    "\n",
    "ids_per_file = 100000\n",
    "\n",
    "num_files = math.ceil(len(ids) / ids_per_file)\n",
    "\n",
    "for file_idx in range(num_files):\n",
    "    start_idx = file_idx * ids_per_file\n",
    "    end_idx = min((file_idx + 1) * ids_per_file, len(ids))\n",
    "    current_ids = ids[start_idx:end_idx]\n",
    "\n",
    "    queries = []\n",
    "    for id in current_ids:\n",
    "        query = f\"UPDATE your_table SET `value` = '3', `updated_at` = NOW() WHERE `id` = {id} AND `key` = 'default';\"\n",
    "        queries.append([query])\n",
    "\n",
    "    query_df = pd.DataFrame(queries, columns=['query'])\n",
    "    output_file = f'bulk_queries_{file_idx + 1}.csv'\n",
    "    query_df.to_csv(output_file, index=False, quoting=csv.QUOTE_NONE, escapechar='\\\\')\n",
    "\n",
    "    print(f'Generated {output_file} with {len(current_ids)} queries')"
   ]
  }
 ],
 "metadata": {
  "kernelspec": {
   "display_name": "Python 3",
   "language": "python",
   "name": "python3"
  },
  "language_info": {
   "codemirror_mode": {
    "name": "ipython",
    "version": 3
   },
   "file_extension": ".py",
   "mimetype": "text/x-python",
   "name": "python",
   "nbconvert_exporter": "python",
   "pygments_lexer": "ipython3",
   "version": "3.9.6"
  }
 },
 "nbformat": 4,
 "nbformat_minor": 2
}
